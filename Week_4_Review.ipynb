{
  "nbformat": 4,
  "nbformat_minor": 0,
  "metadata": {
    "colab": {
      "provenance": [],
      "collapsed_sections": [
        "0Y8aKBhT32dA",
        "zf_KQsGI6dT8",
        "1Crh9KSEDQNc",
        "yVISwGAhJ5uK",
        "KgXh5GzONdbt",
        "yC4OVANAOHa-",
        "XHtll3JOPp2x"
      ],
      "include_colab_link": true
    },
    "kernelspec": {
      "name": "python3",
      "display_name": "Python 3"
    },
    "language_info": {
      "name": "python"
    }
  },
  "cells": [
    {
      "cell_type": "markdown",
      "metadata": {
        "id": "view-in-github",
        "colab_type": "text"
      },
      "source": [
        "<a href=\"https://colab.research.google.com/github/azelde/HackTheHood/blob/main/Week_4_Review.ipynb\" target=\"_parent\"><img src=\"https://colab.research.google.com/assets/colab-badge.svg\" alt=\"Open In Colab\"/></a>"
      ]
    },
    {
      "cell_type": "markdown",
      "source": [
        "# Data Types Review"
      ],
      "metadata": {
        "id": "0Y8aKBhT32dA"
      }
    },
    {
      "cell_type": "markdown",
      "source": [
        "### Lists"
      ],
      "metadata": {
        "id": "zf_KQsGI6dT8"
      }
    },
    {
      "cell_type": "code",
      "source": [
        "# 1. Create a list and then print it, making sure to give it a descriptive variable name:\n",
        "\n",
        "my_books = ['Ella Enchanted', 'Pachinko', 'Americanah']\n",
        "print(my_books)\n",
        "\n",
        "# 2. Index practice with this list\n",
        "\n",
        "rainbow_colors = ['red', 'orange', 'yellow', 'green', 'blue', 'indigo', 'violet']\n",
        "\n",
        "# 2a. Print the third color through indexing\n",
        "\n",
        "print(rainbow_colors[2])\n",
        "\n",
        "# 2b. Print the last color through indexing\n",
        "\n",
        "print(rainbow_colors[6])\n",
        "    # OR\n",
        "print(rainbow_colors[-1])\n",
        "\n",
        "# 2c. Print the first three colors through indexing\n",
        "\n",
        "print(rainbow_colors[0:3])\n",
        "\n",
        "# 2d. Set up the print statement so the output is: green  violet  orange\n",
        "\n",
        "print(rainbow_colors[3]\n",
        ", rainbow_colors[6]\n",
        ", rainbow_colors[1])\n",
        "\n",
        "# 3 Length and string concatenating with this list:\n",
        "\n",
        "fruits = [\n",
        "    \"Apple\", \"Banana\", \"Orange\", \"Grape\", \"Pineapple\",\n",
        "    \"Strawberry\", \"Blueberry\", \"Raspberry\", \"Mango\", \"Peach\",\n",
        "    \"Cherry\", \"Watermelon\", \"Cantaloupe\", \"Honeydew\", \"Kiwi\",\n",
        "    \"Papaya\", \"Plum\", \"Pomegranate\", \"Lychee\", \"Dragonfruit\",\n",
        "    \"Passionfruit\", \"Fig\", \"Guava\"\n",
        "]\n",
        "\n",
        "# 3a. Print out the length of the fruits list\n",
        "\n",
        "print(len(fruits))\n",
        "\n",
        "# 4. Print out the following statement by indexing\n",
        "# and concatenating the elements of list to be:\n",
        "# \"I would like to buy Passionfruit, Fig, and Guava\"\n",
        "\n",
        "print(\"I would like to buy \" + fruits[17] + \", \" + fruits[18] + \", and \" + fruits[19])\n"
      ],
      "metadata": {
        "colab": {
          "base_uri": "https://localhost:8080/"
        },
        "id": "Fn7cj9ut6VVA",
        "outputId": "cc0663da-bbd9-4319-cee4-225705890827"
      },
      "execution_count": null,
      "outputs": [
        {
          "output_type": "stream",
          "name": "stdout",
          "text": [
            "['Ella Enchanted', 'Pachinko', 'Americanah']\n",
            "yellow\n",
            "violet\n",
            "violet\n",
            "['red', 'orange', 'yellow']\n",
            "green violet orange\n",
            "23\n",
            "I would like to buy Pomegranate, Lychee, and Dragonfruit\n"
          ]
        }
      ]
    },
    {
      "cell_type": "markdown",
      "source": [
        "### Dictionaries"
      ],
      "metadata": {
        "id": "1Crh9KSEDQNc"
      }
    },
    {
      "cell_type": "markdown",
      "source": [],
      "metadata": {
        "id": "JY3mjta_GFul"
      }
    },
    {
      "cell_type": "code",
      "source": [
        "# Step 1: Create a dictionary with a student's name\n",
        "\n",
        "student = {\n",
        "    \"name\": \"John Doe\"\n",
        "}\n",
        "print(student)\n",
        "\n",
        "# Step 2: Add a list of grades to the dictionary\n",
        "\n",
        "student[\"grades\"] = [85, 92, 78, 90, 88]\n",
        "print(student)\n",
        "\n",
        "# Step 3: Add another dictionary with comments to the dictionary\n",
        "\n",
        "student[\"comments\"] = {\n",
        "    \"good\": \"Great improvement in math and science.\",\n",
        "    \"improvement\": \"Needs to participate more in class discussions.\"\n",
        "}\n",
        "\n",
        "# Step 4: Print out the student information\n",
        "\n",
        "print(student)\n",
        "\n",
        "\n",
        "# Step 5: print out only the grades\n",
        "\n",
        "print(student[\"grades\"])\n",
        "\n",
        "\n",
        "# Step 6: Pop out the last grade, then print the new grades list\n",
        "\n",
        "student[\"grades\"].pop()\n",
        "print(student)\n",
        "\n",
        "\n",
        "# Step 7: Add the latest score, 99, to grades\n",
        "\n",
        "student[\"grades\"].append(99)\n",
        "print(student)\n",
        "\n",
        "\n",
        "# Bonus - is there another way we could re assign the last grade?\n",
        "\n",
        "student[\"grades\"][-1] = 99\n",
        "print(student)"
      ],
      "metadata": {
        "colab": {
          "base_uri": "https://localhost:8080/"
        },
        "id": "G0GIgbvrDToR",
        "outputId": "5e9d6c25-33c7-451e-a8ba-a6c89dd775bb"
      },
      "execution_count": null,
      "outputs": [
        {
          "output_type": "stream",
          "name": "stdout",
          "text": [
            "{'name': 'John Doe'}\n",
            "{'name': 'John Doe', 'grades': [85, 92, 78, 90, 88]}\n",
            "{'name': 'John Doe', 'grades': [85, 92, 78, 90, 88], 'comments': {'good': 'Great improvement in math and science.', 'improvement': 'Needs to participate more in class discussions.'}}\n",
            "[85, 92, 78, 90, 88]\n",
            "{'name': 'John Doe', 'grades': [85, 92, 78, 90], 'comments': {'good': 'Great improvement in math and science.', 'improvement': 'Needs to participate more in class discussions.'}}\n",
            "{'name': 'John Doe', 'grades': [85, 92, 78, 90, 99], 'comments': {'good': 'Great improvement in math and science.', 'improvement': 'Needs to participate more in class discussions.'}}\n",
            "{'name': 'John Doe', 'grades': [85, 92, 78, 90, 99], 'comments': {'good': 'Great improvement in math and science.', 'improvement': 'Needs to participate more in class discussions.'}}\n"
          ]
        }
      ]
    },
    {
      "cell_type": "code",
      "source": [],
      "metadata": {
        "id": "aK6wUy-PF2yq"
      },
      "execution_count": null,
      "outputs": []
    },
    {
      "cell_type": "markdown",
      "source": [],
      "metadata": {
        "id": "CrkWjhT2IHJp"
      }
    },
    {
      "cell_type": "markdown",
      "source": [
        "# Input Practice\n"
      ],
      "metadata": {
        "id": "yVISwGAhJ5uK"
      }
    },
    {
      "cell_type": "code",
      "source": [
        "# Step 1: Get the user's name as input\n",
        "name = input(\"Please enter your name: \")\n",
        "print(\"Hello, \" + name + \"!\")\n",
        "\n",
        "# Step 2: Get the user's age as input and convert it to an integer\n",
        "age = input(\"Please enter your age: \")\n",
        "age = int(age)\n",
        "print(name + \", you are \" + str(age) + \" years old.\")\n",
        "\n",
        "# Step 3: Calculate the user's age in 5 years\n",
        "future_age = age + 5\n",
        "print(name + \", you will be \" + str(future_age) + \" years old in 5 years.\")\n",
        "\n",
        "# Step 4: Calculate the number of years until the user turns 100\n",
        "years_until_100 = 100 - age\n",
        "print(name + \", you will turn 100 years old in \" + str(years_until_100) + \" years.\")\n",
        "\n",
        "# Step 5: Introduce f-strings for cleaner output\n",
        "print(f\"Hello, {name}!\")\n",
        "print(f\"{name}, you are {age} years old.\")\n",
        "print(f\"{name}, you will be {future_age} years old in 5 years.\")\n",
        "print(f\"{name}, you will turn 100 years old in {years_until_100} years.\")\n"
      ],
      "metadata": {
        "id": "9ZQbPteJJ9Wr"
      },
      "execution_count": null,
      "outputs": []
    },
    {
      "cell_type": "markdown",
      "source": [
        "# Conditionals w/ Operators"
      ],
      "metadata": {
        "id": "iwRp3UWCHchx"
      }
    },
    {
      "cell_type": "markdown",
      "source": [
        "### 1: Simple 'if' operator:"
      ],
      "metadata": {
        "id": "KgXh5GzONdbt"
      }
    },
    {
      "cell_type": "code",
      "source": [
        "# Step 1: Simple if statement with arithmetic operators\n",
        "age = int(input(\"Please enter your age: \"))\n",
        "\n",
        "# Arithmetic operator example\n",
        "age_in_5_years = age + 5\n",
        "\n",
        "if age_in_5_years >= 18:\n",
        "    print(f\"In 5 years, you will be {age_in_5_years} years old, which is an adult.\")\n"
      ],
      "metadata": {
        "id": "at3DqrDJHhqq",
        "colab": {
          "base_uri": "https://localhost:8080/"
        },
        "outputId": "701a4b72-929d-4065-c342-64c26425ef93"
      },
      "execution_count": null,
      "outputs": [
        {
          "output_type": "stream",
          "name": "stdout",
          "text": [
            "Please enter your age: 30\n",
            "In 5 years, you will be 35 years old, which is an adult.\n"
          ]
        }
      ]
    },
    {
      "cell_type": "markdown",
      "source": [
        "### 2: Introducing if and else with comparison operators."
      ],
      "metadata": {
        "id": "Cuf5094vNpOg"
      }
    },
    {
      "cell_type": "code",
      "source": [
        "# Step 2: Introducing if and else with comparison operators\n",
        "age = int(input(\"Please enter your age: \"))\n",
        "\n",
        "if age >= 18:\n",
        "    print(\"You are an adult.\")\n",
        "else:\n",
        "    print(\"You are not an adult.\")\n"
      ],
      "metadata": {
        "id": "KTdwuJ-vNwXP"
      },
      "execution_count": null,
      "outputs": []
    },
    {
      "cell_type": "markdown",
      "source": [
        "### 3: Using membership operators to check membership in a list."
      ],
      "metadata": {
        "id": "yC4OVANAOHa-"
      }
    },
    {
      "cell_type": "code",
      "source": [
        "# Step 3: Using membership operators to check membership in a list\n",
        "favorite_fruit = input(\"Please enter your favorite fruit: \")\n",
        "fruits = [\"apple\", \"banana\", \"orange\", \"grape\", \"pineapple\"]\n",
        "\n",
        "if favorite_fruit.lower() in fruits:\n",
        "    print(f\"{favorite_fruit.capitalize()} is a great choice!\")\n",
        "else:\n",
        "    print(f\"{favorite_fruit.capitalize()} is not in the list of fruits.\")"
      ],
      "metadata": {
        "colab": {
          "base_uri": "https://localhost:8080/"
        },
        "id": "hbXGa1COOX9H",
        "outputId": "3e9cb63d-3763-4a8e-dd52-c52f61f866ec"
      },
      "execution_count": null,
      "outputs": [
        {
          "output_type": "stream",
          "name": "stdout",
          "text": [
            "Please enter your favorite fruit: strawberry\n",
            "Strawberry is not in the list of fruits.\n"
          ]
        }
      ]
    },
    {
      "cell_type": "markdown",
      "source": [
        "### 4: Introducing logical operators (and, or, not)."
      ],
      "metadata": {
        "id": "6PxBpAx-Ob55"
      }
    },
    {
      "cell_type": "code",
      "source": [
        "# Mini Step 4.0: Handling Yes or No Input with Truthy or Falsey Outcome\n",
        "# We will get a yes or no input from the user and convert it to a boolean value\n",
        "\n",
        "# Get input from the user\n",
        "response = input(\"Do you have permission from your parents? (yes/no): \").lower()\n",
        "\n",
        "# Convert input to a boolean value\n",
        "has_permission = response == \"yes\"\n",
        "\n",
        "# Print the boolean value\n",
        "print(f\"Has permission: {has_permission}\")\n",
        "\n",
        "# Use the boolean value in a conditional statement\n",
        "if has_permission:\n",
        "    print(\"You can participate.\")\n",
        "else:\n",
        "    print(\"You cannot participate.\")\n",
        "\n",
        "\n",
        "# 4.1 Using 'and' operator:\n",
        "\n",
        "age = int(input(\"Please enter your age: \"))\n",
        "has_id = input(\"Do you have an ID? (yes/no): \").lower() == \"yes\"\n",
        "\n",
        "if age >= 18 and has_id:\n",
        "    print(\"You can enter the club.\")\n",
        "else:\n",
        "    print(\"You cannot enter the club.\")\n",
        "\n",
        "# 4.2 Example of 'or' operator\n",
        "age = int(input(\"Please enter your age: \"))\n",
        "has_permission = input(\"Do you have permission from your parents? (yes/no): \").lower() == \"yes\"\n",
        "\n",
        "if age >= 18 or has_permission:\n",
        "    print(\"You can participate.\")\n",
        "else:\n",
        "    print(\"You cannot participate.\")\n",
        "\n",
        "# Example of 'not' operator\n",
        "likes_broccoli = input(\"Do you like broccoli? (yes/no): \").lower() == \"yes\"\n",
        "\n",
        "if not likes_broccoli:\n",
        "    print(\"You should try to eat more vegetables!\")\n",
        "else:\n",
        "    print(\"Great! Keep eating your vegetables.\")"
      ],
      "metadata": {
        "id": "RIRvBJ79Oazv"
      },
      "execution_count": null,
      "outputs": []
    },
    {
      "cell_type": "markdown",
      "source": [
        "### 5: Using elif for multiple conditions."
      ],
      "metadata": {
        "id": "XHtll3JOPp2x"
      }
    },
    {
      "cell_type": "code",
      "source": [
        "# Step 5: Using elif for multiple conditions\n",
        "age = int(input(\"Please enter your age: \"))\n",
        "\n",
        "if age < 13:\n",
        "    print(\"You are a child.\")\n",
        "elif age < 18:\n",
        "    print(\"You are a teenager.\")\n",
        "else:\n",
        "    print(\"You are an adult.\")"
      ],
      "metadata": {
        "id": "q-O-ZIcWOjAV"
      },
      "execution_count": null,
      "outputs": []
    }
  ]
}