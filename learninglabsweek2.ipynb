{
  "nbformat": 4,
  "nbformat_minor": 0,
  "metadata": {
    "colab": {
      "provenance": [],
      "authorship_tag": "ABX9TyPmBFR0bBy2WNJjSjeaWqOs",
      "include_colab_link": true
    },
    "kernelspec": {
      "name": "python3",
      "display_name": "Python 3"
    },
    "language_info": {
      "name": "python"
    }
  },
  "cells": [
    {
      "cell_type": "markdown",
      "metadata": {
        "id": "view-in-github",
        "colab_type": "text"
      },
      "source": [
        "<a href=\"https://colab.research.google.com/github/azelde/HackTheHood/blob/main/learninglabsweek2.ipynb\" target=\"_parent\"><img src=\"https://colab.research.google.com/assets/colab-badge.svg\" alt=\"Open In Colab\"/></a>"
      ]
    },
    {
      "cell_type": "markdown",
      "source": [
        "### Psuedo code for my application\n",
        "I want to write a program that takes user input and prints it back to the screen.\n",
        "`First_name` the user's first name\n",
        "`Last_Name` the user's last name\n",
        "`Age` the user's age\n",
        "`Fav_Colour` the user's favourite colour\n",
        "`Fav_Sport` the user's favourite sport\n",
        "`Fav_Team` the user's favourite team\n",
        "use a 'built-in' process to take user's data.\n",
        "use a 'built-in' process to display user's data."
      ],
      "metadata": {
        "id": "cCgN_v3yVP3v"
      }
    },
    {
      "cell_type": "markdown",
      "source": [
        "### Code for my application"
      ],
      "metadata": {
        "id": "ntvdAugpU4H3"
      }
    },
    {
      "cell_type": "code",
      "source": [
        "First_name = 'John'\n",
        "Last_Name = 'Connor'\n",
        "Age = 23\n",
        "Fav_Colour = 'Gray'\n",
        "Fav_Sport = 'Soccer'\n",
        "Fav_Team = 'Man U'"
      ],
      "metadata": {
        "id": "XIS6wBlCU5hc"
      },
      "execution_count": 6,
      "outputs": []
    },
    {
      "cell_type": "code",
      "source": [
        "print(First_name)\n",
        "print(Last_Name)\n",
        "print(Age)\n",
        "print(Fav_Colour)\n",
        "print(Fav_Sport)\n",
        "print(Fav_Team)"
      ],
      "metadata": {
        "colab": {
          "base_uri": "https://localhost:8080/"
        },
        "id": "aO78LmH-Vcft",
        "outputId": "cea5bf8e-6b4d-48d8-f514-89d8a5feade2"
      },
      "execution_count": 8,
      "outputs": [
        {
          "output_type": "stream",
          "name": "stdout",
          "text": [
            "John\n",
            "Connor\n",
            "23\n",
            "Gray\n",
            "Soccer\n",
            "Man U\n"
          ]
        }
      ]
    },
    {
      "cell_type": "code",
      "source": [
        "First_name = input('What is your first name? ')\n",
        "# In this line I am using the input method to ask the user's first name\n",
        "Last_Name = input('What is your last name? ')\n",
        "# Write your name\n",
        "Age = input('What is your age? ')\n",
        "# Write your age\n",
        "Fav_Colour = input('What is your favourite colour? ')\n",
        "# Write your favourite color\n",
        "Fav_Sport = input('What is your favourite sport? ')\n",
        "# Write your favourite sport\n",
        "Fav_Team = input('What is your favourite team? ')\n",
        "# Write your favourite soccer team"
      ],
      "metadata": {
        "id": "27EGAe2MSVwr",
        "colab": {
          "base_uri": "https://localhost:8080/"
        },
        "outputId": "cd26dcd6-34df-4a48-9010-2be7f40a9ce0"
      },
      "execution_count": 32,
      "outputs": [
        {
          "name": "stdout",
          "output_type": "stream",
          "text": [
            "What is your first name? Matthew\n",
            "What is your last name? Sun\n",
            "What is your age? 16\n",
            "What is your favourite colour? Black\n",
            "What is your favourite sport? Badminton\n",
            "What is your favourite team? Man U\n"
          ]
        }
      ]
    },
    {
      "cell_type": "code",
      "source": [
        "print(First_name)\n",
        "print(Last_Name)\n",
        "print(Age)\n",
        "print(Fav_Colour)\n",
        "print(Fav_Sport)\n",
        "print(Fav_Team)"
      ],
      "metadata": {
        "colab": {
          "base_uri": "https://localhost:8080/"
        },
        "id": "IaQjP6LoV7JB",
        "outputId": "c7ce0d8f-575e-4a93-fab0-e36592ece19d"
      },
      "execution_count": 33,
      "outputs": [
        {
          "output_type": "stream",
          "name": "stdout",
          "text": [
            "Matthew\n",
            "Sun\n",
            "16\n",
            "Black\n",
            "Badminton\n",
            "Man U\n"
          ]
        }
      ]
    },
    {
      "cell_type": "markdown",
      "source": [
        "F-String Formatting"
      ],
      "metadata": {
        "id": "I4wcgESWTvkq"
      }
    },
    {
      "cell_type": "code",
      "source": [
        "greetings = 'Hello'\n",
        "name = 'John'"
      ],
      "metadata": {
        "id": "10eokb_mWMrg"
      },
      "execution_count": 28,
      "outputs": []
    },
    {
      "cell_type": "code",
      "source": [
        "print(\"Hello there, John\")"
      ],
      "metadata": {
        "colab": {
          "base_uri": "https://localhost:8080/"
        },
        "id": "Jtinwp_yW9SI",
        "outputId": "ca35e4d9-2d85-4b77-ccd0-aae66d2057ff"
      },
      "execution_count": 29,
      "outputs": [
        {
          "output_type": "stream",
          "name": "stdout",
          "text": [
            "Hello there, John\n"
          ]
        }
      ]
    },
    {
      "cell_type": "code",
      "source": [
        "print(f\"{greetings} there, {name}\")"
      ],
      "metadata": {
        "colab": {
          "base_uri": "https://localhost:8080/"
        },
        "id": "QkPsMEajWSNc",
        "outputId": "47a84b83-a56e-40e5-ce18-94afc77ec0a8"
      },
      "execution_count": 30,
      "outputs": [
        {
          "output_type": "stream",
          "name": "stdout",
          "text": [
            "Hello there, John\n"
          ]
        }
      ]
    },
    {
      "cell_type": "code",
      "source": [
        "print(f\"User first name is, {First_name}, last name is, {Last_Name}, age is, {Age}, favourite colour is, {Fav_Colour}, favourite sport is, {Fav_Sport}, favourite team is, {Fav_Team}\")\n",
        "# prints the user information"
      ],
      "metadata": {
        "colab": {
          "base_uri": "https://localhost:8080/"
        },
        "id": "VsydOnuOXFX_",
        "outputId": "7c7d25cf-5f96-4ac3-8051-365d5b68a364"
      },
      "execution_count": 35,
      "outputs": [
        {
          "output_type": "stream",
          "name": "stdout",
          "text": [
            "User first name is, Matthew, last name is, Sun, age is, 16, favourite colour is, Black, favourite sport is, Badminton, favourite team is, Man U\n"
          ]
        }
      ]
    }
  ]
}