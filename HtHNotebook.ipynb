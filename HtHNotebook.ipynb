{
  "nbformat": 4,
  "nbformat_minor": 0,
  "metadata": {
    "colab": {
      "provenance": [],
      "authorship_tag": "ABX9TyOi2Y/p2BWYpGblKeRCqpyw",
      "include_colab_link": true
    },
    "kernelspec": {
      "name": "python3",
      "display_name": "Python 3"
    },
    "language_info": {
      "name": "python"
    }
  },
  "cells": [
    {
      "cell_type": "markdown",
      "metadata": {
        "id": "view-in-github",
        "colab_type": "text"
      },
      "source": [
        "<a href=\"https://colab.research.google.com/github/azelde/HackTheHood/blob/main/HtHNotebook.ipynb\" target=\"_parent\"><img src=\"https://colab.research.google.com/assets/colab-badge.svg\" alt=\"Open In Colab\"/></a>"
      ]
    },
    {
      "cell_type": "code",
      "execution_count": null,
      "metadata": {
        "colab": {
          "base_uri": "https://localhost:8080/"
        },
        "id": "NvtMOjBCa8al",
        "outputId": "f419684b-c1b4-4eb9-e610-37bfa9a4a494"
      },
      "outputs": [
        {
          "output_type": "stream",
          "name": "stdout",
          "text": [
            "hello Matthew!\n"
          ]
        }
      ],
      "source": [
        "print(\"hello Matthew!\")"
      ]
    },
    {
      "cell_type": "code",
      "source": [
        "import numpy as np"
      ],
      "metadata": {
        "id": "G8e_usHaboYY"
      },
      "execution_count": null,
      "outputs": []
    },
    {
      "cell_type": "code",
      "source": [
        "np.arange(1,10,2)"
      ],
      "metadata": {
        "colab": {
          "base_uri": "https://localhost:8080/"
        },
        "id": "W0jVO4XsdzIA",
        "outputId": "f86d1bb3-b39d-4722-c622-12df22362ab6"
      },
      "execution_count": null,
      "outputs": [
        {
          "output_type": "execute_result",
          "data": {
            "text/plain": [
              "array([1, 3, 5, 7, 9])"
            ]
          },
          "metadata": {},
          "execution_count": 10
        }
      ]
    },
    {
      "cell_type": "code",
      "source": [
        "np.arange(1, 10, 2)"
      ],
      "metadata": {
        "id": "vMhwrGJweL8E",
        "outputId": "d3f7b8b3-fe7a-4d7d-ffe0-5f373218aa53",
        "colab": {
          "base_uri": "https://localhost:8080/"
        }
      },
      "execution_count": null,
      "outputs": [
        {
          "output_type": "execute_result",
          "data": {
            "text/plain": [
              "array([1, 3, 5, 7, 9])"
            ]
          },
          "metadata": {},
          "execution_count": 11
        }
      ]
    },
    {
      "cell_type": "code",
      "source": [
        "end = 100\n",
        "print(end)\n",
        "_ = \"hello Matthew!\"\n",
        "print(_)\n",
        "end = 200\n",
        "print(end)\n",
        "end = 500\n",
        "print(end)\n",
        "start = 0\n",
        "end = 1000\n",
        "print(end)\n",
        "print(start)\n",
        "end = start\n",
        "print(end)"
      ],
      "metadata": {
        "colab": {
          "base_uri": "https://localhost:8080/"
        },
        "id": "8ityVMJjeErI",
        "outputId": "4d7379c7-bc09-40f4-ee5b-978017ed8582"
      },
      "execution_count": null,
      "outputs": [
        {
          "output_type": "stream",
          "name": "stdout",
          "text": [
            "100\n",
            "hello Matthew!\n",
            "200\n",
            "500\n",
            "1000\n",
            "0\n",
            "0\n"
          ]
        }
      ]
    },
    {
      "cell_type": "code",
      "source": [
        "# data types\n",
        "\n",
        "# numeric types ('int' is a integer)\n",
        "\n",
        "print(start)\n",
        "print(type(start))\n",
        "\n",
        "\n",
        "print(type(7.7))\n",
        "\n",
        "# text sequence type ('str' is a string)\n",
        "\n",
        "name = 'Matthew'\n",
        "greet = 'Matthew, \"Hey!\"'\n",
        "print(name)\n",
        "print(type(name))\n",
        "print(greet)\n",
        "print(type(greet))\n",
        "\n",
        "name = '\"Matthew\"'\n",
        "print(name)\n",
        "print(type(name))\n",
        "\n",
        "# Boolean types ('bool' are booleans)\n",
        "\n",
        "killa_say_wha = True\n",
        "print(killa_say_wha)\n",
        "print(type(killa_say_wha))\n",
        "\n",
        "killa_does_not_say_wha = False\n",
        "print(killa_does_not_say_wha)\n",
        "print(type(killa_does_not_say_wha))"
      ],
      "metadata": {
        "colab": {
          "base_uri": "https://localhost:8080/"
        },
        "id": "AvSfNmqBe4ML",
        "outputId": "df799f1b-3f26-4f24-b574-ea5239aab0e0"
      },
      "execution_count": null,
      "outputs": [
        {
          "output_type": "stream",
          "name": "stdout",
          "text": [
            "0\n",
            "<class 'int'>\n",
            "<class 'float'>\n",
            "Matthew\n",
            "<class 'str'>\n",
            "Matthew, \"Hey!\"\n",
            "<class 'str'>\n",
            "\"Matthew\"\n",
            "<class 'str'>\n",
            "True\n",
            "<class 'bool'>\n",
            "False\n",
            "<class 'bool'>\n"
          ]
        }
      ]
    },
    {
      "cell_type": "code",
      "source": [
        "name = \"Matthew\"\n",
        "print(name)\n",
        "age = 16\n",
        "print(age)\n",
        "hobby = 'hanging out with friends'\n",
        "print(hobby)\n",
        "identity = 'chinese'\n",
        "print(identity)\n",
        "age = 17\n",
        "print(\"My name is Matthew, I'm 16, and I'm chinese\")"
      ],
      "metadata": {
        "colab": {
          "base_uri": "https://localhost:8080/"
        },
        "id": "-QchEoLxlZ4K",
        "outputId": "73893f57-eeae-4863-839f-448bb689bfe5"
      },
      "execution_count": null,
      "outputs": [
        {
          "output_type": "stream",
          "name": "stdout",
          "text": [
            "Matthew\n",
            "16\n",
            "hanging out with friends\n",
            "chinese\n",
            "My name is Matthew, I'm 16, and I'm chinese\n"
          ]
        }
      ]
    }
  ]
}